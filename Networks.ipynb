{
 "cells": [
  {
   "cell_type": "code",
   "execution_count": null,
   "id": "ba80693f",
   "metadata": {},
   "outputs": [],
   "source": [
    "import networkx as nx\n",
    "import pandas as pd\n",
    "import ndlib.models.epidemics as ep\n",
    "from bokeh.io import output_notebook, show\n",
    "from ndlib.viz.bokeh.DiffusionTrend import DiffusionTrend\n",
    "import ndlib.models.ModelConfig as mc\n",
    "from ndlib.viz.bokeh.MultiPlot import MultiPlot\n",
    "import matplotlib.pyplot as plt\n",
    "import numpy as np\n",
    "import random"
   ]
  },
  {
   "cell_type": "code",
   "execution_count": null,
   "id": "2b822bdd",
   "metadata": {},
   "outputs": [],
   "source": [
    "# Helper functions\n",
    "\n",
    "def config_SIR(model, beta, gamma, fraction_infected):\n",
    "    '''Takes the SIR model as input and its parameters\n",
    "    Configures said model with these parameters.'''\n",
    "    config = mc.Configuration()\n",
    "    config.add_model_parameter('beta', beta)\n",
    "    config.add_model_parameter('gamma', gamma)\n",
    "    config.add_model_parameter(\"fraction_infected\", fraction_infected)\n",
    "    model.set_initial_status(config)\n",
    "    \n",
    "    \n",
    "def get_SIR_result_lists(results):\n",
    "    '''Takes SIR simulation results (model.build_trends(iterations)) as input variable\n",
    "    Unpacks this variable and outputs S, I, R node count as lists.'''\n",
    "    S_node_count = results[0]['trends']['node_count'][0]\n",
    "    I_node_count = results[0]['trends']['node_count'][1]\n",
    "    R_node_count = results[0]['trends']['node_count'][2]\n",
    "    return S_node_count, I_node_count, R_node_count"
   ]
  },
  {
   "cell_type": "markdown",
   "id": "a4dd292f",
   "metadata": {},
   "source": [
    "**Investigate the effect of network parameters on the spread**"
   ]
  },
  {
   "cell_type": "code",
   "execution_count": null,
   "id": "a9bd2275",
   "metadata": {},
   "outputs": [],
   "source": [
    "#Simulate Erdos-Reyni (random) network. Investigate the effect of p on the spread of disease (SIR).\n",
    "\n",
    "p_variations = [0.04, 0.07, 0.1, 0.13, 0.16]\n",
    "beta = 0.001\n",
    "gamma = 0.01\n",
    "fraction_infected = 0.05\n",
    "time_steps = 200\n",
    "N = 1000\n",
    "\n",
    "time = np.linspace(0, time_steps, time_steps)\n",
    "plt.figure(figsize=(10, 6))\n",
    "\n",
    "for p in p_variations:\n",
    "    # Network Definition\n",
    "    g = nx.erdos_renyi_graph(N, p)\n",
    "    \n",
    "    # Import SIR\n",
    "    model = ep.SIRModel(g)\n",
    "    \n",
    "    config_SIR(model, beta, gamma, fraction_infected)\n",
    "\n",
    "    # Simulation\n",
    "    iterations = model.iteration_bunch(time_steps)\n",
    "    trends = model.build_trends(iterations)\n",
    "    S_node_count, I_node_count, R_node_count = get_SIR_result_lists(trends)\n",
    "    \n",
    "    #Plot\n",
    "    plt.plot(time, I_node_count, label = f'p = {p}')\n",
    "    plt.xlabel('Time')\n",
    "    plt.ylabel('Number of Infected nodes')\n",
    "    plt.title('The effect of parameter p on the spread of disease (SIR)\\nin the Erdos-Reyni (random) network')\n",
    "    plt.legend()\n",
    "    plt.grid(True)"
   ]
  },
  {
   "cell_type": "code",
   "execution_count": null,
   "id": "1aa8c5ee",
   "metadata": {
    "scrolled": true
   },
   "outputs": [],
   "source": [
    "#Simulate Barabasi Albert (scale-free) network. Investigate the effect of m on the spread of disease (SIR).\n",
    "\n",
    "m_variations = [1, 2, 3, 4, 5]\n",
    "beta = 0.3\n",
    "gamma = 0.1\n",
    "fraction_infected = 0.05\n",
    "time_steps = 30\n",
    "N = 1000\n",
    "\n",
    "time = np.linspace(0, time_steps, time_steps)\n",
    "plt.figure(figsize=(10, 6))\n",
    "\n",
    "for m in m_variations:\n",
    "    # Network Definition\n",
    "    g = nx.barabasi_albert_graph(N, m)\n",
    "    \n",
    "    # Import SIR\n",
    "    model = ep.SIRModel(g)\n",
    "    \n",
    "    config_SIR(model, beta, gamma, fraction_infected)\n",
    "\n",
    "    # Simulation\n",
    "    iterations = model.iteration_bunch(time_steps)\n",
    "    trends = model.build_trends(iterations)\n",
    "    S_node_count, I_node_count, R_node_count = get_SIR_result_lists(trends)\n",
    "    \n",
    "    #Plot\n",
    "    plt.plot(time, I_node_count, label = f'm = {m}')\n",
    "    plt.xlabel('Time')\n",
    "    plt.ylabel('Number of Infected nodes')\n",
    "    plt.title('The effect of parameter m on the spread of disease (SIR)\\nin the Barabasi Albert (scale-free) network')\n",
    "    plt.legend()\n",
    "    plt.grid(True)"
   ]
  },
  {
   "cell_type": "code",
   "execution_count": null,
   "id": "2bb63b64",
   "metadata": {},
   "outputs": [],
   "source": [
    "#Simulate Watts-Strogatz (small worlds) network. Investigate the effect of k on the spread of disease (SIR).\n",
    "\n",
    "k_variations = [5, 7, 9, 11, 13]\n",
    "prob = 0.05\n",
    "beta = 0.3\n",
    "gamma = 0.1\n",
    "fraction_infected = 0.05\n",
    "time_steps = 30\n",
    "N = 1000\n",
    "\n",
    "time = np.linspace(0, time_steps, time_steps)\n",
    "plt.figure(figsize=(10, 6))\n",
    "\n",
    "for k in k_variations:\n",
    "    # Network Definition\n",
    "    g = nx.watts_strogatz_graph(N, k, prob)\n",
    "    \n",
    "    # Import SIR\n",
    "    model = ep.SIRModel(g)\n",
    "    \n",
    "    config_SIR(model, beta, gamma, fraction_infected)\n",
    "\n",
    "    # Simulation\n",
    "    iterations = model.iteration_bunch(time_steps)\n",
    "    trends = model.build_trends(iterations)\n",
    "    S_node_count, I_node_count, R_node_count = get_SIR_result_lists(trends)\n",
    "    \n",
    "    #Plot\n",
    "    plt.plot(time, I_node_count, label = f'm = {k}')\n",
    "    plt.xlabel('Time')\n",
    "    plt.ylabel('Number of Infected nodes')\n",
    "    plt.title('The effect of parameter k on the spread of disease (SIR)\\nin the Watts-Strogatz (small worlds) network')\n",
    "    plt.legend()\n",
    "    plt.grid(True)\n",
    "    \n",
    "    \n",
    "#Simulate Watts-Strogatz (small worlds) network. Investigate the effect of p (prob) on the spread of disease (SIR).\n",
    "\n",
    "k = 5\n",
    "prob_variations = [0.05, 0.10, 0.15, 0.25]\n",
    "beta = 0.3\n",
    "gamma = 0.1\n",
    "fraction_infected = 0.05\n",
    "time_steps = 30\n",
    "N = 1000\n",
    "\n",
    "time = np.linspace(0, time_steps, time_steps)\n",
    "plt.figure(figsize=(10, 6))\n",
    "\n",
    "for prob in prob_variations:\n",
    "    # Network Definition\n",
    "    g = nx.watts_strogatz_graph(N, k, prob)\n",
    "    \n",
    "    # Import SIR\n",
    "    model = ep.SIRModel(g)\n",
    "    \n",
    "    config_SIR(model, beta, gamma, fraction_infected)\n",
    "\n",
    "    # Simulation\n",
    "    iterations = model.iteration_bunch(time_steps)\n",
    "    trends = model.build_trends(iterations)\n",
    "    S_node_count, I_node_count, R_node_count = get_SIR_result_lists(trends)\n",
    "    \n",
    "    #Plot\n",
    "    plt.plot(time, I_node_count, label = f'p = {prob}')\n",
    "    plt.xlabel('Time')\n",
    "    plt.ylabel('Number of Infected nodes')\n",
    "    plt.title('The effect of parameter p on the spread of disease (SIR)\\nin the Watts-Strogatz (small worlds) network')\n",
    "    plt.legend()\n",
    "    plt.grid(True)"
   ]
  },
  {
   "cell_type": "markdown",
   "id": "d2f77603",
   "metadata": {},
   "source": [
    "**Generate Networks of equivalent form**"
   ]
  },
  {
   "cell_type": "code",
   "execution_count": null,
   "id": "a65ab052",
   "metadata": {},
   "outputs": [],
   "source": []
  },
  {
   "cell_type": "markdown",
   "id": "ddaa9414",
   "metadata": {},
   "source": [
    "## Vaccination"
   ]
  },
  {
   "cell_type": "code",
   "execution_count": null,
   "id": "41a1d4fc",
   "metadata": {},
   "outputs": [],
   "source": [
    "# Read your data into a Pandas DataFrame\n",
    "data = pd.read_csv('transmission_network.csv', delimiter=';')"
   ]
  },
  {
   "cell_type": "code",
   "execution_count": null,
   "id": "ea032ff2",
   "metadata": {},
   "outputs": [],
   "source": [
    "print(data.shape)"
   ]
  },
  {
   "cell_type": "code",
   "execution_count": null,
   "id": "94789d55",
   "metadata": {},
   "outputs": [],
   "source": [
    "data = data.drop(columns=['Unnamed: 0'])  # Remove the extra column\n",
    "adjacency_matrix = data.values"
   ]
  },
  {
   "cell_type": "code",
   "execution_count": null,
   "id": "6ad84336",
   "metadata": {},
   "outputs": [],
   "source": [
    "G = nx.Graph(adjacency_matrix)"
   ]
  },
  {
   "cell_type": "code",
   "execution_count": null,
   "id": "a258fc02",
   "metadata": {},
   "outputs": [],
   "source": [
    "print(\"Number of nodes:\", len(G.nodes()))\n",
    "print(\"Number of edges:\", len(G.edges()))"
   ]
  },
  {
   "cell_type": "code",
   "execution_count": null,
   "id": "f8864204",
   "metadata": {
    "scrolled": true
   },
   "outputs": [],
   "source": [
    "# Create a layout for the graph\n",
    "layout = nx.spring_layout(G)\n",
    "\n",
    "# Draw the nodes and edges\n",
    "nx.draw(G, layout, with_labels=True, node_size=300, node_color='skyblue', font_size=8)\n",
    "\n",
    "# Draw edge weights, if available\n",
    "labels = nx.get_edge_attributes(G, 'weight')\n",
    "nx.draw_networkx_edge_labels(G, layout, edge_labels=labels, font_size=8)\n",
    "\n",
    "# Show the graph\n",
    "plt.title(\"Your Network Graph\")\n",
    "plt.show()"
   ]
  },
  {
   "cell_type": "code",
   "execution_count": null,
   "id": "83138855",
   "metadata": {},
   "outputs": [],
   "source": [
    "node_degrees = dict(G.degree())"
   ]
  },
  {
   "cell_type": "code",
   "execution_count": null,
   "id": "f2dd6085",
   "metadata": {},
   "outputs": [],
   "source": [
    "type(node_degrees)"
   ]
  },
  {
   "cell_type": "code",
   "execution_count": null,
   "id": "09a5c523",
   "metadata": {},
   "outputs": [],
   "source": [
    "sorted_nodes = sorted(node_degrees, key=lambda x: node_degrees[x], reverse=True)\n"
   ]
  },
  {
   "cell_type": "code",
   "execution_count": null,
   "id": "02d66344",
   "metadata": {},
   "outputs": [],
   "source": [
    "degree_centrality = nx.degree_centrality(G)\n",
    "closeness_centrality = nx.closeness_centrality(G)\n",
    "betweenness_centrality = nx.betweenness_centrality(G)\n",
    "\n",
    "# Define a threshold for identifying hub nodes\n",
    "threshold = 0.35 # Adjust the threshold as needed\n",
    "\n",
    "# Identify hub nodes based on centrality measures and threshold\n",
    "hub_nodes = [node for node in G.nodes() if (degree_centrality[node] > threshold or\n",
    "                                           closeness_centrality[node] > threshold or\n",
    "                                           betweenness_centrality[node] > threshold)]\n",
    "\n",
    "print(\"Hub Nodes:\", hub_nodes)"
   ]
  },
  {
   "cell_type": "markdown",
   "id": "b5cc97ca",
   "metadata": {},
   "source": [
    "# Null Strategy"
   ]
  },
  {
   "cell_type": "code",
   "execution_count": null,
   "id": "a3806ec1",
   "metadata": {},
   "outputs": [],
   "source": [
    "# Assuming adjacency_matrix is a NumPy array representing the adjacency matrix\n",
    "G = nx.Graph(adjacency_matrix)"
   ]
  },
  {
   "cell_type": "code",
   "execution_count": null,
   "id": "63c74308",
   "metadata": {
    "scrolled": true
   },
   "outputs": [],
   "source": [
    "# Parameters\n",
    "total_tests = 100\n",
    "max_tests_per_iteration = 10\n",
    "vaccination_budgets = [1, 3, 5, 10]\n",
    "test_accuracies = [0.5, 0.75, 1.0]\n",
    "transmission_probability = 0.2\n",
    "\n",
    "# Create a random network (you can replace this with your specific network)\n",
    "G = nx.Graph(adjacency_matrix)\n",
    "\n",
    "def run_simulation(G, initial_infected, total_tests, max_tests_per_iteration, vaccination_budget, test_accuracy, transmission_probability):\n",
    "    # Initialize the status of nodes: 0 for susceptible, 1 for infected, and 2 for removed\n",
    "    node_status = {node: 0 for node in G.nodes()}\n",
    "\n",
    "    # Select a random initial set of infected nodes\n",
    "    initial_infected_nodes = random.sample(list(G.nodes()), initial_infected)\n",
    "    for node in initial_infected_nodes:\n",
    "        node_status[node] = 1\n",
    "\n",
    "    # Lists to store SIR counts at each step\n",
    "    infected_counts = []\n",
    "    susceptible_counts = []\n",
    "    removed_counts = []\n",
    "\n",
    "    # Run the simulation\n",
    "    for iteration in range(total_tests // max_tests_per_iteration):\n",
    "        # Perform testing\n",
    "        tested_nodes = random.sample(list(G.nodes()), max_tests_per_iteration)\n",
    "        for node in tested_nodes:\n",
    "            if node_status[node] == 1 and random.random() <= test_accuracy:\n",
    "                # Node is infected and the test is accurate\n",
    "                node_status[node] = 2  # Move to the removed state\n",
    "\n",
    "        # Calculate the number of remaining vaccinations that can be performed in this iteration\n",
    "        remaining_vaccinations = min(vaccination_budget, sum(1 for node in G.nodes() if node_status[node] == 0))\n",
    "        # Perform vaccination with the remaining budget\n",
    "        vaccinated_nodes = random.sample([node for node in G.nodes() if node_status[node] == 0], remaining_vaccinations)\n",
    "        for node in vaccinated_nodes:\n",
    "            node_status[node] = 2  # Move to the removed state\n",
    "\n",
    "        # Disease spread: Infected nodes can infect susceptible neighbors\n",
    "        for node in G.nodes():\n",
    "            if node_status[node] == 1:  # Node is infected\n",
    "                neighbors = list(G.neighbors(node))\n",
    "                for neighbor in neighbors:\n",
    "                    if node_status[neighbor] == 0 and random.random() <= transmission_probability:\n",
    "                        node_status[neighbor] = 1  # Neighbor becomes infected\n",
    "\n",
    "        # Calculate SIR counts at this step\n",
    "        infected_count = sum(1 for status in node_status.values() if status == 1)\n",
    "        susceptible_count = sum(1 for status in node_status.values() if status == 0)\n",
    "        removed_count = sum(1 for status in node_status.values() if status == 2)\n",
    "\n",
    "        infected_counts.append(infected_count)\n",
    "        susceptible_counts.append(susceptible_count)\n",
    "        removed_counts.append(removed_count)\n",
    "\n",
    "        print(f\"Iteration {iteration + 1}: Infected={infected_count}, Susceptible={susceptible_count}, Removed={removed_count}\")\n",
    "\n",
    "    # Plot SIR counts over time\n",
    "    plt.plot(infected_counts, label='Infected')\n",
    "    plt.plot(susceptible_counts, label='Susceptible')\n",
    "    plt.plot(removed_counts, label='Removed')\n",
    "    plt.xlabel('Time Steps')\n",
    "    plt.ylabel('Count')\n",
    "    plt.legend()\n",
    "    plt.title('SIR Over Time')\n",
    "    plt.show()\n",
    "\n",
    "# Test different combinations of vaccination budgets and test accuracies\n",
    "for vaccination_budget in vaccination_budgets:\n",
    "    for test_accuracy in test_accuracies:\n",
    "        print(f\"Testing with Vaccination Budget: {vaccination_budget}, Test Accuracy: {test_accuracy}\")\n",
    "        run_simulation(G, initial_infected=5, total_tests=total_tests, max_tests_per_iteration=max_tests_per_iteration, vaccination_budget=vaccination_budget, test_accuracy=test_accuracy, transmission_probability=transmission_probability)"
   ]
  },
  {
   "cell_type": "markdown",
   "id": "1a952b1e",
   "metadata": {},
   "source": [
    "# Dynamic Vacciantion"
   ]
  },
  {
   "cell_type": "code",
   "execution_count": null,
   "id": "a494ff3e",
   "metadata": {},
   "outputs": [],
   "source": [
    "G = nx.Graph(adjacency_matrix)"
   ]
  },
  {
   "cell_type": "code",
   "execution_count": null,
   "id": "6cb7362f",
   "metadata": {},
   "outputs": [],
   "source": [
    "# Basic Network Statistics\n",
    "num_nodes = G.number_of_nodes()\n",
    "num_edges = G.number_of_edges()\n",
    "density = nx.density(G)\n",
    "\n",
    "print(f\"Number of nodes: {num_nodes}\")\n",
    "print(f\"Number of edges: {num_edges}\")\n",
    "print(f\"Network density: {density}\")\n",
    "\n",
    "# Degree Distribution\n",
    "degree_sequence = [d for n, d in G.degree()]\n",
    "avg_degree = sum(degree_sequence) / num_nodes\n",
    "\n",
    "print(f\"Average degree: {avg_degree}\")\n",
    "\n",
    "# Clustering Coefficient\n",
    "avg_clustering = nx.average_clustering(G)\n",
    "\n",
    "print(f\"Average clustering coefficient: {avg_clustering}\")\n",
    "\n",
    "if nx.is_connected(G):\n",
    "    avg_shortest_path = nx.average_shortest_path_length(G)\n",
    "    print(f\"Average shortest path length: {avg_shortest_path}\")\n",
    "else:\n",
    "    # If the graph is not connected, compute the average shortest path for each component\n",
    "    for component in nx.connected_components(G):\n",
    "        subgraph = G.subgraph(component)\n",
    "        avg_shortest_path = nx.average_shortest_path_length(subgraph)\n",
    "        print(f\"Average shortest path length for component: {avg_shortest_path}\")\n",
    "# Community Detection (using the Louvain algorithm)\n",
    "from community import best_partition\n",
    "partition = best_partition(G)\n",
    "\n",
    "# Visualization (you can adjust parameters for your specific network)\n",
    "# Note: Visualization works best for small to moderately-sized networks\n",
    "pos = nx.spring_layout(G)\n",
    "nx.draw(G, pos, with_labels=True, node_size=100)\n",
    "plt.show()"
   ]
  },
  {
   "cell_type": "code",
   "execution_count": null,
   "id": "aea85653",
   "metadata": {},
   "outputs": [],
   "source": []
  }
 ],
 "metadata": {
  "kernelspec": {
   "display_name": "Python 3 (ipykernel)",
   "language": "python",
   "name": "python3"
  },
  "language_info": {
   "codemirror_mode": {
    "name": "ipython",
    "version": 3
   },
   "file_extension": ".py",
   "mimetype": "text/x-python",
   "name": "python",
   "nbconvert_exporter": "python",
   "pygments_lexer": "ipython3",
   "version": "3.9.7"
  },
  "toc": {
   "base_numbering": 1,
   "nav_menu": {},
   "number_sections": true,
   "sideBar": true,
   "skip_h1_title": false,
   "title_cell": "Table of Contents",
   "title_sidebar": "Contents",
   "toc_cell": false,
   "toc_position": {},
   "toc_section_display": true,
   "toc_window_display": false
  }
 },
 "nbformat": 4,
 "nbformat_minor": 5
}
