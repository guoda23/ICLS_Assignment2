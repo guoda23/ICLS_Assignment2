{
 "cells": [
  {
   "cell_type": "code",
   "execution_count": 1,
   "id": "ba80693f",
   "metadata": {},
   "outputs": [],
   "source": [
    "import networkx as nx\n",
    "import pandas as pd\n",
    "import ndlib.models.epidemics as ep\n",
    "from bokeh.io import output_notebook, show\n",
    "from ndlib.viz.bokeh.DiffusionTrend import DiffusionTrend\n",
    "import ndlib.models.ModelConfig as mc\n",
    "from ndlib.viz.bokeh.MultiPlot import MultiPlot\n",
    "import matplotlib.pyplot as plt\n",
    "import numpy as np\n",
    "import random"
   ]
  },
  {
   "cell_type": "code",
   "execution_count": null,
   "id": "2b822bdd",
   "metadata": {},
   "outputs": [],
   "source": [
    "# Helper functions\n",
    "\n",
    "def config_SIR(model, beta, gamma, fraction_infected):\n",
    "    '''Takes the SIR model as input and its parameters\n",
    "    Configures said model with these parameters.'''\n",
    "    config = mc.Configuration()\n",
    "    config.add_model_parameter('beta', beta)\n",
    "    config.add_model_parameter('gamma', gamma)\n",
    "    config.add_model_parameter(\"fraction_infected\", fraction_infected)\n",
    "    model.set_initial_status(config)\n",
    "    \n",
    "    \n",
    "def get_SIR_result_lists(results):\n",
    "    '''Takes SIR simulation results (model.build_trends(iterations)) as input variable\n",
    "    Unpacks this variable and outputs S, I, R node count as lists.'''\n",
    "    S_node_count = results[0]['trends']['node_count'][0]\n",
    "    I_node_count = results[0]['trends']['node_count'][1]\n",
    "    R_node_count = results[0]['trends']['node_count'][2]\n",
    "    return S_node_count, I_node_count, R_node_count"
   ]
  },
  {
   "cell_type": "markdown",
   "id": "a4dd292f",
   "metadata": {},
   "source": [
    "**Investigate the effect of network parameters on the spread**"
   ]
  },
  {
   "cell_type": "code",
   "execution_count": null,
   "id": "a9bd2275",
   "metadata": {},
   "outputs": [],
   "source": [
    "#Simulate Erdos-Reyni (random) network. Investigate the effect of p on the spread of disease (SIR).\n",
    "\n",
    "p_variations = [0.04, 0.07, 0.1, 0.13, 0.16]\n",
    "beta = 0.001\n",
    "gamma = 0.01\n",
    "fraction_infected = 0.05\n",
    "time_steps = 200\n",
    "N = 1000\n",
    "\n",
    "time = np.linspace(0, time_steps, time_steps)\n",
    "plt.figure(figsize=(10, 6))\n",
    "\n",
    "for p in p_variations:\n",
    "    # Network Definition\n",
    "    g = nx.erdos_renyi_graph(N, p)\n",
    "    \n",
    "    # Import SIR\n",
    "    model = ep.SIRModel(g)\n",
    "    \n",
    "    config_SIR(model, beta, gamma, fraction_infected)\n",
    "\n",
    "    # Simulation\n",
    "    iterations = model.iteration_bunch(time_steps)\n",
    "    trends = model.build_trends(iterations)\n",
    "    S_node_count, I_node_count, R_node_count = get_SIR_result_lists(trends)\n",
    "    \n",
    "    #Plot\n",
    "    plt.plot(time, I_node_count, label = f'p = {p}')\n",
    "    plt.xlabel('Time')\n",
    "    plt.ylabel('Number of Infected nodes')\n",
    "    plt.title('The effect of parameter p on the spread of disease (SIR)\\nin the Erdos-Reyni (random) network')\n",
    "    plt.legend()\n",
    "    plt.grid(True)"
   ]
  },
  {
   "cell_type": "code",
   "execution_count": null,
   "id": "1aa8c5ee",
   "metadata": {
    "scrolled": true
   },
   "outputs": [],
   "source": [
    "#Simulate Barabasi Albert (scale-free) network. Investigate the effect of m on the spread of disease (SIR).\n",
    "\n",
    "m_variations = [1, 2, 3, 4, 5]\n",
    "beta = 0.3\n",
    "gamma = 0.1\n",
    "fraction_infected = 0.05\n",
    "time_steps = 30\n",
    "N = 1000\n",
    "\n",
    "time = np.linspace(0, time_steps, time_steps)\n",
    "plt.figure(figsize=(10, 6))\n",
    "\n",
    "for m in m_variations:\n",
    "    # Network Definition\n",
    "    g = nx.barabasi_albert_graph(N, m)\n",
    "    \n",
    "    # Import SIR\n",
    "    model = ep.SIRModel(g)\n",
    "    \n",
    "    config_SIR(model, beta, gamma, fraction_infected)\n",
    "\n",
    "    # Simulation\n",
    "    iterations = model.iteration_bunch(time_steps)\n",
    "    trends = model.build_trends(iterations)\n",
    "    S_node_count, I_node_count, R_node_count = get_SIR_result_lists(trends)\n",
    "    \n",
    "    #Plot\n",
    "    plt.plot(time, I_node_count, label = f'm = {m}')\n",
    "    plt.xlabel('Time')\n",
    "    plt.ylabel('Number of Infected nodes')\n",
    "    plt.title('The effect of parameter m on the spread of disease (SIR)\\nin the Barabasi Albert (scale-free) network')\n",
    "    plt.legend()\n",
    "    plt.grid(True)"
   ]
  },
  {
   "cell_type": "code",
   "execution_count": null,
   "id": "2bb63b64",
   "metadata": {},
   "outputs": [],
   "source": [
    "#Simulate Watts-Strogatz (small worlds) network. Investigate the effect of k on the spread of disease (SIR).\n",
    "\n",
    "k_variations = [5, 7, 9, 11, 13]\n",
    "prob = 0.05\n",
    "beta = 0.3\n",
    "gamma = 0.1\n",
    "fraction_infected = 0.05\n",
    "time_steps = 30\n",
    "N = 1000\n",
    "\n",
    "time = np.linspace(0, time_steps, time_steps)\n",
    "plt.figure(figsize=(10, 6))\n",
    "\n",
    "for k in k_variations:\n",
    "    # Network Definition\n",
    "    g = nx.watts_strogatz_graph(N, k, prob)\n",
    "    \n",
    "    # Import SIR\n",
    "    model = ep.SIRModel(g)\n",
    "    \n",
    "    config_SIR(model, beta, gamma, fraction_infected)\n",
    "\n",
    "    # Simulation\n",
    "    iterations = model.iteration_bunch(time_steps)\n",
    "    trends = model.build_trends(iterations)\n",
    "    S_node_count, I_node_count, R_node_count = get_SIR_result_lists(trends)\n",
    "    \n",
    "    #Plot\n",
    "    plt.plot(time, I_node_count, label = f'm = {k}')\n",
    "    plt.xlabel('Time')\n",
    "    plt.ylabel('Number of Infected nodes')\n",
    "    plt.title('The effect of parameter k on the spread of disease (SIR)\\nin the Watts-Strogatz (small worlds) network')\n",
    "    plt.legend()\n",
    "    plt.grid(True)\n",
    "    \n",
    "    \n",
    "#Simulate Watts-Strogatz (small worlds) network. Investigate the effect of p (prob) on the spread of disease (SIR).\n",
    "\n",
    "k = 5\n",
    "prob_variations = [0.05, 0.10, 0.15, 0.25]\n",
    "beta = 0.3\n",
    "gamma = 0.1\n",
    "fraction_infected = 0.05\n",
    "time_steps = 30\n",
    "N = 1000\n",
    "\n",
    "time = np.linspace(0, time_steps, time_steps)\n",
    "plt.figure(figsize=(10, 6))\n",
    "\n",
    "for prob in prob_variations:\n",
    "    # Network Definition\n",
    "    g = nx.watts_strogatz_graph(N, k, prob)\n",
    "    \n",
    "    # Import SIR\n",
    "    model = ep.SIRModel(g)\n",
    "    \n",
    "    config_SIR(model, beta, gamma, fraction_infected)\n",
    "\n",
    "    # Simulation\n",
    "    iterations = model.iteration_bunch(time_steps)\n",
    "    trends = model.build_trends(iterations)\n",
    "    S_node_count, I_node_count, R_node_count = get_SIR_result_lists(trends)\n",
    "    \n",
    "    #Plot\n",
    "    plt.plot(time, I_node_count, label = f'p = {prob}')\n",
    "    plt.xlabel('Time')\n",
    "    plt.ylabel('Number of Infected nodes')\n",
    "    plt.title('The effect of parameter p on the spread of disease (SIR)\\nin the Watts-Strogatz (small worlds) network')\n",
    "    plt.legend()\n",
    "    plt.grid(True)"
   ]
  },
  {
   "cell_type": "markdown",
   "id": "d2f77603",
   "metadata": {},
   "source": [
    "**Generate Networks of equivalent form**"
   ]
  },
  {
   "cell_type": "code",
   "execution_count": null,
   "id": "a65ab052",
   "metadata": {},
   "outputs": [],
   "source": []
  },
  {
   "cell_type": "markdown",
   "id": "ddaa9414",
   "metadata": {},
   "source": [
    "## Vaccination"
   ]
  },
  {
   "cell_type": "code",
   "execution_count": 3,
   "id": "41a1d4fc",
   "metadata": {},
   "outputs": [],
   "source": [
    "# Read your data into a Pandas DataFrame\n",
    "data = pd.read_csv('transmission_network.csv', delimiter=';')"
   ]
  },
  {
   "cell_type": "code",
   "execution_count": 4,
   "id": "ea032ff2",
   "metadata": {},
   "outputs": [
    {
     "name": "stdout",
     "output_type": "stream",
     "text": [
      "(374, 375)\n"
     ]
    }
   ],
   "source": [
    "print(data.shape)"
   ]
  },
  {
   "cell_type": "code",
   "execution_count": 5,
   "id": "94789d55",
   "metadata": {},
   "outputs": [],
   "source": [
    "data = data.drop(columns=['Unnamed: 0'])  # Remove the extra column\n",
    "adjacency_matrix = data.values"
   ]
  },
  {
   "cell_type": "code",
   "execution_count": 6,
   "id": "6ad84336",
   "metadata": {},
   "outputs": [],
   "source": [
    "G = nx.Graph(adjacency_matrix)"
   ]
  },
  {
   "cell_type": "code",
   "execution_count": 7,
   "id": "a258fc02",
   "metadata": {},
   "outputs": [
    {
     "name": "stdout",
     "output_type": "stream",
     "text": [
      "Number of nodes: 374\n",
      "Number of edges: 1265\n"
     ]
    }
   ],
   "source": [
    "print(\"Number of nodes:\", len(G.nodes()))\n",
    "print(\"Number of edges:\", len(G.edges()))"
   ]
  },
  {
   "cell_type": "code",
   "execution_count": 8,
   "id": "f8864204",
   "metadata": {
    "scrolled": true
   },
   "outputs": [
    {
     "data": {
      "image/png": "[encoded data removed]",
      "text/plain": [
       "<Figure size 432x288 with 1 Axes>"
      ]
     },
     "metadata": {},
     "output_type": "display_data"
    }
   ],
   "source": [
    "# Create a layout for the graph\n",
    "layout = nx.spring_layout(G)\n",
    "\n",
    "# Draw the nodes and edges\n",
    "nx.draw(G, layout, with_labels=True, node_size=300, node_color='skyblue', font_size=8)\n",
    "\n",
    "# Draw edge weights, if available\n",
    "labels = nx.get_edge_attributes(G, 'weight')\n",
    "nx.draw_networkx_edge_labels(G, layout, edge_labels=labels, font_size=8)\n",
    "\n",
    "# Show the graph\n",
    "plt.title(\"Your Network Graph\")\n",
    "plt.show()"
   ]
  },
  {
   "cell_type": "markdown",
   "id": "adcd41a0",
   "metadata": {},
   "source": [
    "# Null Strategy"
   ]
  },
  {
   "cell_type": "code",
   "execution_count": 9,
   "id": "daacb27d",
   "metadata": {},
   "outputs": [],
   "source": [
    "# Assuming adjacency_matrix is a NumPy array representing the adjacency matrix\n",
    "G = nx.Graph(adjacency_matrix)"
   ]
  },
  {
   "cell_type": "code",
   "execution_count": 10,
   "id": "2680b612",
   "metadata": {},
   "outputs": [],
   "source": [
    "def run_sir_simulation(G, initial_infected, vaccination_probability):\n",
    "    # Create a copy of the original network\n",
    "    sim_G = G.copy()\n",
    "\n",
    "    # Initialize the status of nodes: 0 for susceptible, 1 for infected, and 2 for removed\n",
    "    node_status = {node: 0 for node in G.nodes()}\n",
    "\n",
    "    # Select a random initial set of infected nodes\n",
    "    initial_infected_nodes = random.sample(list(G.nodes()), initial_infected)\n",
    "    for node in initial_infected_nodes:\n",
    "        node_status[node] = 1\n",
    "\n",
    "    # Run the simulation for a fixed number of time steps (you can adjust this)\n",
    "    num_time_steps = 365  # Example: 365 time steps\n",
    "\n",
    "    results = []  # List to store the status of nodes at each time step\n",
    "    S_counts = []  # List to store counts of susceptible individuals at each time step\n",
    "    I_counts = []  # List to store counts of infected individuals at each time step\n",
    "    R_counts = []  # List to store counts of removed individuals at each time step\n",
    "\n",
    "    # Record the initial status\n",
    "    initial_status = dict(node_status)\n",
    "\n",
    "    for time_step in range(num_time_steps):\n",
    "        # Create a list to store nodes to be vaccinated\n",
    "        nodes_to_vaccinate = []\n",
    "\n",
    "        # Simulate disease spread and vaccination\n",
    "        for node in G.nodes():\n",
    "            if node_status[node] == 1:\n",
    "                # Node is infected\n",
    "                neighbors = list(G.neighbors(node))\n",
    "                for neighbor in neighbors:\n",
    "                    if node_status[neighbor] == 0:\n",
    "                        # Check if the neighbor should be vaccinated\n",
    "                        if random.random() < vaccination_probability:\n",
    "                            nodes_to_vaccinate.append(neighbor)\n",
    "\n",
    "        # Vaccinate nodes\n",
    "        for node in nodes_to_vaccinate:\n",
    "            node_status[node] = 2\n",
    "\n",
    "        # Update the node statuses\n",
    "        for node in G.nodes():\n",
    "            if node_status[node] == 1:\n",
    "                # Check if infected node recovers (you can add recovery logic here)\n",
    "                pass\n",
    "\n",
    "        # Store the status of nodes at this time step\n",
    "        results.append(dict(node_status))\n",
    "        \n",
    "        # Count and store the number of S, I, and R at this time step\n",
    "        S, I, R = count_statuses(node_status)\n",
    "        S_counts.append(S)\n",
    "        I_counts.append(I)\n",
    "        R_counts.append(R)\n",
    "\n",
    "    # Calculate and display S, I, and R counts at the beginning and end\n",
    "    start_S, start_I, start_R = count_statuses(initial_status)\n",
    "    end_S, end_I, end_R = count_statuses(node_status)\n",
    "    print(\"Starting counts: S={}, I={}, R={}\".format(start_S, start_I, start_R))\n",
    "    print(\"Ending counts: S={}, I={}, R={}\".format(end_S, end_I, end_R))\n",
    "\n",
    "    # Plot the starting and ending graphs\n",
    "    visualize_network(G, initial_status, title=\"Starting Network\")\n",
    "    visualize_network(G, node_status, title=\"Ending Network\")\n",
    "\n",
    "    # Plot the change in S, I, R over time\n",
    "    plot_SIR_over_time(S_counts, I_counts, R_counts)\n"
   ]
  },
  {
   "cell_type": "code",
   "execution_count": 11,
   "id": "c90cf2ee",
   "metadata": {},
   "outputs": [],
   "source": [
    "def plot_SIR_over_time(S_counts, I_counts, R_counts):\n",
    "    # Plot the change in S, I, R over time\n",
    "    plt.figure()\n",
    "    plt.plot(S_counts, label=\"Susceptible (S)\", color='green')\n",
    "    plt.plot(I_counts, label=\"Infected (I)\", color='red')\n",
    "    plt.plot(R_counts, label=\"Removed (R)\", color='blue')\n",
    "    plt.xlabel(\"Time Steps\")\n",
    "    plt.ylabel(\"Number of Individuals\")\n",
    "    plt.legend()\n",
    "    plt.title(\"Change in SIR over Time\")\n",
    "    plt.show()"
   ]
  },
  {
   "cell_type": "code",
   "execution_count": 12,
   "id": "37fbd1ed",
   "metadata": {},
   "outputs": [],
   "source": [
    "def visualize_network(G, node_status, title):\n",
    "    # Visualize the network using networkx and matplotlib\n",
    "    pos = nx.spring_layout(G)  # Define a layout (e.g., spring layout)\n",
    "    node_colors = [status_color(node_status[node]) for node in G.nodes()]\n",
    "    labels = {node: str(node) for node in G.nodes()}\n",
    "    nx.draw(G, pos, node_color=node_colors, labels=labels)\n",
    "    plt.title(title)\n",
    "    plt.show()"
   ]
  },
  {
   "cell_type": "code",
   "execution_count": 13,
   "id": "cb1d6de0",
   "metadata": {},
   "outputs": [],
   "source": [
    "def status_color(status):\n",
    "    # Define color mapping for different node statuses\n",
    "    if status == 0:\n",
    "        return 'green'  # Susceptible\n",
    "    elif status == 1:\n",
    "        return 'red'  # Infected\n",
    "    elif status == 2:\n",
    "        return 'blue'  # Removed\n",
    "    else:\n",
    "        return 'gray'  # Unknown status\n"
   ]
  },
  {
   "cell_type": "code",
   "execution_count": 14,
   "id": "205448e6",
   "metadata": {},
   "outputs": [
    {
     "name": "stdout",
     "output_type": "stream",
     "text": [
      "Starting counts: S=369, I=5, R=0\n",
      "Ending counts: S=336, I=5, R=33\n"
     ]
    },
    {
     "data": {
      "image/png": "[encoded data removed]",
      "text/plain": [
       "<Figure size 432x288 with 1 Axes>"
      ]
     },
     "metadata": {},
     "output_type": "display_data"
    },
    {
     "data": {
      "image/png": "[encoded data removed]",
      "text/plain": [
       "<Figure size 432x288 with 1 Axes>"
      ]
     },
     "metadata": {},
     "output_type": "display_data"
    },
    {
     "data": {
      "image/png": "[encoded data removed]",
      "text/plain": [
       "<Figure size 432x288 with 1 Axes>"
      ]
     },
     "metadata": {
      "needs_background": "light"
     },
     "output_type": "display_data"
    }
   ],
   "source": [
    "def count_statuses(node_status):\n",
    "    # Count the number of nodes in each status\n",
    "    count_S = sum(1 for status in node_status.values() if status == 0)\n",
    "    count_I = sum(1 for status in node_status.values() if status == 1)\n",
    "    count_R = sum(1 for status in node_status.values() if status == 2)\n",
    "    return count_S, count_I, count_R\n",
    "    \n",
    "G = nx.Graph(adjacency_matrix)\n",
    "run_sir_simulation(G, initial_infected=5, vaccination_probability=0.3)"
   ]
  },
  {
   "cell_type": "code",
   "execution_count": 15,
   "id": "bfbed64b",
   "metadata": {},
   "outputs": [
    {
     "name": "stdout",
     "output_type": "stream",
     "text": [
      "Number of nodes: 374\n",
      "Number of edges: 1265\n"
     ]
    }
   ],
   "source": [
    "print(\"Number of nodes:\", len(G.nodes()))\n",
    "print(\"Number of edges:\", len(G.edges()))"
   ]
  },
  {
   "cell_type": "code",
   "execution_count": null,
   "id": "ebab7d85",
   "metadata": {},
   "outputs": [],
   "source": []
  }
 ],
 "metadata": {
  "kernelspec": {
   "display_name": "Python 3 (ipykernel)",
   "language": "python",
   "name": "python3"
  },
  "language_info": {
   "codemirror_mode": {
    "name": "ipython",
    "version": 3
   },
   "file_extension": ".py",
   "mimetype": "text/x-python",
   "name": "python",
   "nbconvert_exporter": "python",
   "pygments_lexer": "ipython3",
   "version": "3.9.7"
  },
  "toc": {
   "base_numbering": 1,
   "nav_menu": {},
   "number_sections": true,
   "sideBar": true,
   "skip_h1_title": false,
   "title_cell": "Table of Contents",
   "title_sidebar": "Contents",
   "toc_cell": false,
   "toc_position": {},
   "toc_section_display": true,
   "toc_window_display": false
  }
 },
 "nbformat": 4,
 "nbformat_minor": 5
}
